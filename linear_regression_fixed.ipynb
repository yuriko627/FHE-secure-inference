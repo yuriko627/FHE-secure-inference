{
 "cells": [
  {
   "cell_type": "code",
   "execution_count": 3,
   "metadata": {},
   "outputs": [
    {
     "ename": "ModuleNotFoundError",
     "evalue": "No module named 'concrete.ml'",
     "output_type": "error",
     "traceback": [
      "\u001b[1;31m---------------------------------------------------------------------------\u001b[0m",
      "\u001b[1;31mModuleNotFoundError\u001b[0m                       Traceback (most recent call last)",
      "Cell \u001b[1;32mIn[3], line 6\u001b[0m\n\u001b[0;32m      4\u001b[0m \u001b[38;5;28;01mfrom\u001b[39;00m \u001b[38;5;21;01msklearn\u001b[39;00m\u001b[38;5;21;01m.\u001b[39;00m\u001b[38;5;21;01mmetrics\u001b[39;00m \u001b[38;5;28;01mimport\u001b[39;00m r2_score\n\u001b[0;32m      5\u001b[0m \u001b[38;5;28;01mfrom\u001b[39;00m \u001b[38;5;21;01msklearn\u001b[39;00m\u001b[38;5;21;01m.\u001b[39;00m\u001b[38;5;21;01mmodel_selection\u001b[39;00m \u001b[38;5;28;01mimport\u001b[39;00m train_test_split\n\u001b[1;32m----> 6\u001b[0m \u001b[38;5;28;01mfrom\u001b[39;00m \u001b[38;5;21;01mconcrete\u001b[39;00m\u001b[38;5;21;01m.\u001b[39;00m\u001b[38;5;21;01mml\u001b[39;00m\u001b[38;5;21;01m.\u001b[39;00m\u001b[38;5;21;01msklearn\u001b[39;00m \u001b[38;5;28;01mimport\u001b[39;00m LinearRegression \u001b[38;5;28;01mas\u001b[39;00m ConcreteLinearRegression\n",
      "\u001b[1;31mModuleNotFoundError\u001b[0m: No module named 'concrete.ml'"
     ]
    }
   ],
   "source": [
    "# !pip install concrete-ml\n",
    "import time\n",
    "import numpy as np\n",
    "from sklearn.linear_model import LinearRegression as SklearnLinearRegression\n",
    "from sklearn.metrics import r2_score, mean_squared_error, mean_absolute_error\n",
    "from sklearn.model_selection import train_test_split\n",
    "from sklearn.preprocessing import StandardScaler\n",
    "from concrete.ml.sklearn import LinearRegression as ConcreteLinearRegression\n",
    "import pandas as pd\n",
    "import matplotlib.pyplot as plt"
   ]
  },
  {
   "cell_type": "code",
   "execution_count": null,
   "metadata": {},
   "outputs": [],
   "source": [
    "taxi = pd.read_csv(\"./taxi_dataset.csv\")\n",
    "target = taxi.pop('price')\n",
    "for key in ['tip', 'start_longitude', 'end_longitude', 'start_latitude', 'end_latitude']:\n",
    "  taxi.pop(key)\n",
    "taxi['distance'] = round(100*taxi['distance'])\n",
    "mean = target.mean()\n",
    "std = target.std()\n",
    "taxi = taxi[target < mean + 3*std]\n",
    "target = target[target < mean + 3*std]\n",
    "plt.hist(target, bins=1000,edgecolor='black')\n",
    "plt.show()"
   ]
  },
  {
   "cell_type": "code",
   "execution_count": null,
   "metadata": {},
   "outputs": [],
   "source": [
    "x = np.array(taxi)\n",
    "y = np.array(round(target*100))\n",
    "x_train, x_test, y_train, y_test = train_test_split(\n",
    "    x, y, test_size=0.4, random_state=42\n",
    ")\n",
    "\n",
    "sklearn_lr = SklearnLinearRegression()\n",
    "sklearn_lr.fit(x_train, y_train)\n",
    "start_time = time.time()\n",
    "y_pred = sklearn_lr.predict(x_test)\n",
    "end_time = time.time()\n",
    "print(f\"Model evaluation time: {end_time - start_time:.8f} seconds\")\n",
    "msa = mean_absolute_error(y_test, y_pred)\n",
    "print('msa : ', msa/100)\n",
    "\n",
    "print('few sample test')\n",
    "for i in range(20):\n",
    "  print('pred:', sklearn_lr.predict(x_test[i:i+1])/100, 'true:', y_test[i:i+1]/100)"
   ]
  },
  {
   "cell_type": "code",
   "execution_count": null,
   "metadata": {},
   "outputs": [],
   "source": [
    "concrete_lr = ConcreteLinearRegression(n_bits=8)\n",
    "concrete_lr.fit(x_train, y_train)\n",
    "\n",
    "start_time = time.time()\n",
    "y_pred_q = concrete_lr.predict(x_test)\n",
    "end_time = time.time()\n",
    "\n",
    "print(f\"Model evaluation time: {end_time - start_time:.8f} seconds\")\n",
    "msa = mean_absolute_error(y_test, y_pred_q)\n",
    "print('msa : ', msa/100)\n",
    "\n",
    "print('few sample test')\n",
    "for i in range(10):\n",
    "  print('pred: ', concrete_lr.predict(x_test[i:i+1])/100, 'true: ',  y_test[i:i+1]/100)"
   ]
  }
 ],
 "metadata": {
  "kernelspec": {
   "display_name": "env1",
   "language": "python",
   "name": "python3"
  },
  "language_info": {
   "codemirror_mode": {
    "name": "ipython",
    "version": 3
   },
   "file_extension": ".py",
   "mimetype": "text/x-python",
   "name": "python",
   "nbconvert_exporter": "python",
   "pygments_lexer": "ipython3",
   "version": "3.10.4"
  }
 },
 "nbformat": 4,
 "nbformat_minor": 2
}
