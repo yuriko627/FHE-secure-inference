{
 "cells": [
  {
   "cell_type": "code",
   "execution_count": null,
   "metadata": {
    "id": "oTKJ5E37C5jo"
   },
   "outputs": [],
   "source": [
    "!pip install -U pip wheel setuptools"
   ]
  },
  {
   "cell_type": "code",
   "execution_count": null,
   "metadata": {
    "id": "E_j8r0fWC7gX"
   },
   "outputs": [],
   "source": [
    "!pip install concrete-ml"
   ]
  },
  {
   "cell_type": "code",
   "execution_count": 11,
   "metadata": {
    "id": "2-mWn3ccCw6H"
   },
   "outputs": [],
   "source": [
    "import time\n",
    "import numpy as np\n",
    "from sklearn.preprocessing import MinMaxScaler\n",
    "from sklearn.neural_network import MLPRegressor as SklearnMLPRegressor\n",
    "from sklearn.metrics import r2_score, mean_absolute_error\n",
    "from sklearn.model_selection import train_test_split\n",
    "from concrete.ml.sklearn import NeuralNetRegressor as ConcreteNNRegressor\n",
    "import torch\n",
    "from sklearn.pipeline import Pipeline\n",
    "from sklearn.preprocessing import PolynomialFeatures, StandardScaler\n",
    "import matplotlib.pyplot as plt\n",
    "from sklearn.preprocessing import OneHotEncoder\n",
    "from sklearn.compose import ColumnTransformer\n",
    "import pandas as pd\n",
    "#!unzip house.zip"
   ]
  },
  {
   "cell_type": "code",
   "execution_count": 12,
   "metadata": {
    "colab": {
     "base_uri": "https://localhost:8080/",
     "height": 443
    },
    "id": "szwrZepyEQjh",
    "outputId": "634a33db-06c8-4539-93d3-d010fa9f97ef"
   },
   "outputs": [
    {
     "data": {
      "text/html": [
       "<div>\n",
       "<style scoped>\n",
       "    .dataframe tbody tr th:only-of-type {\n",
       "        vertical-align: middle;\n",
       "    }\n",
       "\n",
       "    .dataframe tbody tr th {\n",
       "        vertical-align: top;\n",
       "    }\n",
       "\n",
       "    .dataframe thead th {\n",
       "        text-align: right;\n",
       "    }\n",
       "</style>\n",
       "<table border=\"1\" class=\"dataframe\">\n",
       "  <thead>\n",
       "    <tr style=\"text-align: right;\">\n",
       "      <th></th>\n",
       "      <th>price</th>\n",
       "      <th>area</th>\n",
       "      <th>bedrooms</th>\n",
       "      <th>bathrooms</th>\n",
       "      <th>stories</th>\n",
       "      <th>mainroad</th>\n",
       "      <th>guestroom</th>\n",
       "      <th>basement</th>\n",
       "      <th>hotwaterheating</th>\n",
       "      <th>airconditioning</th>\n",
       "      <th>parking</th>\n",
       "      <th>prefarea</th>\n",
       "      <th>furnishingstatus</th>\n",
       "    </tr>\n",
       "  </thead>\n",
       "  <tbody>\n",
       "    <tr>\n",
       "      <th>0</th>\n",
       "      <td>13300000</td>\n",
       "      <td>7420</td>\n",
       "      <td>4</td>\n",
       "      <td>2</td>\n",
       "      <td>3</td>\n",
       "      <td>yes</td>\n",
       "      <td>no</td>\n",
       "      <td>no</td>\n",
       "      <td>no</td>\n",
       "      <td>yes</td>\n",
       "      <td>2</td>\n",
       "      <td>yes</td>\n",
       "      <td>furnished</td>\n",
       "    </tr>\n",
       "    <tr>\n",
       "      <th>1</th>\n",
       "      <td>12250000</td>\n",
       "      <td>8960</td>\n",
       "      <td>4</td>\n",
       "      <td>4</td>\n",
       "      <td>4</td>\n",
       "      <td>yes</td>\n",
       "      <td>no</td>\n",
       "      <td>no</td>\n",
       "      <td>no</td>\n",
       "      <td>yes</td>\n",
       "      <td>3</td>\n",
       "      <td>no</td>\n",
       "      <td>furnished</td>\n",
       "    </tr>\n",
       "    <tr>\n",
       "      <th>2</th>\n",
       "      <td>12250000</td>\n",
       "      <td>9960</td>\n",
       "      <td>3</td>\n",
       "      <td>2</td>\n",
       "      <td>2</td>\n",
       "      <td>yes</td>\n",
       "      <td>no</td>\n",
       "      <td>yes</td>\n",
       "      <td>no</td>\n",
       "      <td>no</td>\n",
       "      <td>2</td>\n",
       "      <td>yes</td>\n",
       "      <td>semi-furnished</td>\n",
       "    </tr>\n",
       "    <tr>\n",
       "      <th>3</th>\n",
       "      <td>12215000</td>\n",
       "      <td>7500</td>\n",
       "      <td>4</td>\n",
       "      <td>2</td>\n",
       "      <td>2</td>\n",
       "      <td>yes</td>\n",
       "      <td>no</td>\n",
       "      <td>yes</td>\n",
       "      <td>no</td>\n",
       "      <td>yes</td>\n",
       "      <td>3</td>\n",
       "      <td>yes</td>\n",
       "      <td>furnished</td>\n",
       "    </tr>\n",
       "    <tr>\n",
       "      <th>4</th>\n",
       "      <td>11410000</td>\n",
       "      <td>7420</td>\n",
       "      <td>4</td>\n",
       "      <td>1</td>\n",
       "      <td>2</td>\n",
       "      <td>yes</td>\n",
       "      <td>yes</td>\n",
       "      <td>yes</td>\n",
       "      <td>no</td>\n",
       "      <td>yes</td>\n",
       "      <td>2</td>\n",
       "      <td>no</td>\n",
       "      <td>furnished</td>\n",
       "    </tr>\n",
       "    <tr>\n",
       "      <th>...</th>\n",
       "      <td>...</td>\n",
       "      <td>...</td>\n",
       "      <td>...</td>\n",
       "      <td>...</td>\n",
       "      <td>...</td>\n",
       "      <td>...</td>\n",
       "      <td>...</td>\n",
       "      <td>...</td>\n",
       "      <td>...</td>\n",
       "      <td>...</td>\n",
       "      <td>...</td>\n",
       "      <td>...</td>\n",
       "      <td>...</td>\n",
       "    </tr>\n",
       "    <tr>\n",
       "      <th>540</th>\n",
       "      <td>1820000</td>\n",
       "      <td>3000</td>\n",
       "      <td>2</td>\n",
       "      <td>1</td>\n",
       "      <td>1</td>\n",
       "      <td>yes</td>\n",
       "      <td>no</td>\n",
       "      <td>yes</td>\n",
       "      <td>no</td>\n",
       "      <td>no</td>\n",
       "      <td>2</td>\n",
       "      <td>no</td>\n",
       "      <td>unfurnished</td>\n",
       "    </tr>\n",
       "    <tr>\n",
       "      <th>541</th>\n",
       "      <td>1767150</td>\n",
       "      <td>2400</td>\n",
       "      <td>3</td>\n",
       "      <td>1</td>\n",
       "      <td>1</td>\n",
       "      <td>no</td>\n",
       "      <td>no</td>\n",
       "      <td>no</td>\n",
       "      <td>no</td>\n",
       "      <td>no</td>\n",
       "      <td>0</td>\n",
       "      <td>no</td>\n",
       "      <td>semi-furnished</td>\n",
       "    </tr>\n",
       "    <tr>\n",
       "      <th>542</th>\n",
       "      <td>1750000</td>\n",
       "      <td>3620</td>\n",
       "      <td>2</td>\n",
       "      <td>1</td>\n",
       "      <td>1</td>\n",
       "      <td>yes</td>\n",
       "      <td>no</td>\n",
       "      <td>no</td>\n",
       "      <td>no</td>\n",
       "      <td>no</td>\n",
       "      <td>0</td>\n",
       "      <td>no</td>\n",
       "      <td>unfurnished</td>\n",
       "    </tr>\n",
       "    <tr>\n",
       "      <th>543</th>\n",
       "      <td>1750000</td>\n",
       "      <td>2910</td>\n",
       "      <td>3</td>\n",
       "      <td>1</td>\n",
       "      <td>1</td>\n",
       "      <td>no</td>\n",
       "      <td>no</td>\n",
       "      <td>no</td>\n",
       "      <td>no</td>\n",
       "      <td>no</td>\n",
       "      <td>0</td>\n",
       "      <td>no</td>\n",
       "      <td>furnished</td>\n",
       "    </tr>\n",
       "    <tr>\n",
       "      <th>544</th>\n",
       "      <td>1750000</td>\n",
       "      <td>3850</td>\n",
       "      <td>3</td>\n",
       "      <td>1</td>\n",
       "      <td>2</td>\n",
       "      <td>yes</td>\n",
       "      <td>no</td>\n",
       "      <td>no</td>\n",
       "      <td>no</td>\n",
       "      <td>no</td>\n",
       "      <td>0</td>\n",
       "      <td>no</td>\n",
       "      <td>unfurnished</td>\n",
       "    </tr>\n",
       "  </tbody>\n",
       "</table>\n",
       "<p>545 rows × 13 columns</p>\n",
       "</div>"
      ],
      "text/plain": [
       "        price  area  bedrooms  bathrooms  stories mainroad guestroom basement  \\\n",
       "0    13300000  7420         4          2        3      yes        no       no   \n",
       "1    12250000  8960         4          4        4      yes        no       no   \n",
       "2    12250000  9960         3          2        2      yes        no      yes   \n",
       "3    12215000  7500         4          2        2      yes        no      yes   \n",
       "4    11410000  7420         4          1        2      yes       yes      yes   \n",
       "..        ...   ...       ...        ...      ...      ...       ...      ...   \n",
       "540   1820000  3000         2          1        1      yes        no      yes   \n",
       "541   1767150  2400         3          1        1       no        no       no   \n",
       "542   1750000  3620         2          1        1      yes        no       no   \n",
       "543   1750000  2910         3          1        1       no        no       no   \n",
       "544   1750000  3850         3          1        2      yes        no       no   \n",
       "\n",
       "    hotwaterheating airconditioning  parking prefarea furnishingstatus  \n",
       "0                no             yes        2      yes        furnished  \n",
       "1                no             yes        3       no        furnished  \n",
       "2                no              no        2      yes   semi-furnished  \n",
       "3                no             yes        3      yes        furnished  \n",
       "4                no             yes        2       no        furnished  \n",
       "..              ...             ...      ...      ...              ...  \n",
       "540              no              no        2       no      unfurnished  \n",
       "541              no              no        0       no   semi-furnished  \n",
       "542              no              no        0       no      unfurnished  \n",
       "543              no              no        0       no        furnished  \n",
       "544              no              no        0       no      unfurnished  \n",
       "\n",
       "[545 rows x 13 columns]"
      ]
     },
     "execution_count": 12,
     "metadata": {},
     "output_type": "execute_result"
    }
   ],
   "source": [
    "house_dataset = pd.read_csv(\"./data/Housing.csv\")\n",
    "df = pd.DataFrame(house_dataset)\n",
    "df"
   ]
  },
  {
   "cell_type": "code",
   "execution_count": 13,
   "metadata": {
    "id": "Zca4rJ6vFUd6"
   },
   "outputs": [],
   "source": [
    "#preprocessing\n",
    "\n",
    "scaler_cat = OneHotEncoder()\n",
    "scaler_y = MinMaxScaler()\n",
    "std = np.std(df['price'])\n",
    "y = np.array(df.pop('price'), dtype=np.float32)\n",
    "y = np.expand_dims(y, axis=-1)\n",
    "y = scaler_y.fit_transform(y)\n",
    "x = np.empty((len(df), 0))\n",
    "\n",
    "categorical_features = df.select_dtypes(include=['object']).columns.tolist()\n",
    "\n",
    "for key, values in df.items():\n",
    "  el = np.expand_dims(np.array(df[key]), axis=-1)\n",
    "  if key in categorical_features:\n",
    "    el = scaler_cat.fit_transform(el).toarray()\n",
    "  x = np.concatenate((x, el), axis=1)\n",
    "\n",
    "x_train, x_test, y_train, y_test = train_test_split(x, y, test_size=0.2, random_state=42)"
   ]
  },
  {
   "cell_type": "code",
   "execution_count": 16,
   "metadata": {
    "colab": {
     "base_uri": "https://localhost:8080/"
    },
    "id": "fFiV3PgpGDUC",
    "outputId": "3358cdb1-15e7-4833-dc43-e3ff68c75aa8"
   },
   "outputs": [
    {
     "name": "stdout",
     "output_type": "stream",
     "text": [
      "msa on train data: 4.6 millions, ie 2.462 std\n",
      "Model evaluation time on the clear: 0.44 microseconds per sample\n",
      "msa on test data: 1.75 millions, ie 0.935 std\n"
     ]
    }
   ],
   "source": [
    "#sklearn small model\n",
    "\n",
    "sklearn_MLP_regressor = SklearnMLPRegressor(\n",
    "                    alpha=1,\n",
    "                    activation=\"logistic\",\n",
    "                    max_iter=1000,\n",
    "                    hidden_layer_sizes=(25,),\n",
    "                    learning_rate_init=0.005,\n",
    "                    random_state = 42)\n",
    "sklearn_MLP_regressor.fit(x_train, y_train)\n",
    "\n",
    "y_pred = sklearn_MLP_regressor.predict(x_train)\n",
    "y_pred = scaler_y.inverse_transform(np.expand_dims(y_pred, axis=-1))\n",
    "y_true = scaler_y.inverse_transform(y_train)\n",
    "msa = mean_absolute_error(y_train, y_pred)\n",
    "print(f'msa on train data: {round(msa/1000000, 2)} millions, ie {round(msa/std, 3)} std')\n",
    "\n",
    "execution_time_on_plaintext = 0\n",
    "for i in range(10010):\n",
    "  time_begin = time.time()\n",
    "  y_pred = sklearn_MLP_regressor.predict(x_test)\n",
    "  time_end = time.time()\n",
    "  if i > 10:\n",
    "    execution_time_on_plaintext += (time_end - time_begin) / len(x_test)\n",
    "execution_time_on_plaintext /= 10000\n",
    "print(f\"Model evaluation time on the clear: {execution_time_on_plaintext*1000000:.2f} microseconds per sample\")\n",
    "\n",
    "y_pred = sklearn_MLP_regressor.predict(x_test)\n",
    "y_pred = scaler_y.inverse_transform(np.expand_dims(y_pred, axis=-1))\n",
    "y_true = scaler_y.inverse_transform(y_test)\n",
    "msa = mean_absolute_error(y_true, y_pred)\n",
    "print(f'msa on test data: {round(msa/1000000, 2)} millions, ie {round(msa/std, 3)} std')"
   ]
  },
  {
   "cell_type": "code",
   "execution_count": 15,
   "metadata": {
    "colab": {
     "base_uri": "https://localhost:8080/"
    },
    "id": "4pslAwVQNpt-",
    "outputId": "4a51c166-98e5-4f6b-c517-ae28cc8b3d98"
   },
   "outputs": [
    {
     "name": "stdout",
     "output_type": "stream",
     "text": [
      "  epoch    train_loss    valid_loss     dur\n",
      "-------  ------------  ------------  ------\n",
      "      1        \u001b[36m6.5424\u001b[0m        \u001b[32m2.3529\u001b[0m  0.1004\n",
      "      2        \u001b[36m3.4221\u001b[0m        5.7244  0.0949\n",
      "      3        4.3851        \u001b[32m1.4898\u001b[0m  0.0928\n",
      "      4        \u001b[36m1.0733\u001b[0m        \u001b[32m0.6812\u001b[0m  0.0937\n",
      "      5        \u001b[36m0.5305\u001b[0m        \u001b[32m0.3479\u001b[0m  0.0937\n",
      "      6        \u001b[36m0.4489\u001b[0m        \u001b[32m0.1578\u001b[0m  0.0973\n",
      "      7        \u001b[36m0.3906\u001b[0m        \u001b[32m0.1412\u001b[0m  0.0931\n",
      "      8        \u001b[36m0.1628\u001b[0m        \u001b[32m0.1243\u001b[0m  0.0915\n",
      "      9        \u001b[36m0.0605\u001b[0m        \u001b[32m0.0366\u001b[0m  0.0934\n",
      "     10        \u001b[36m0.0310\u001b[0m        \u001b[32m0.0200\u001b[0m  0.0934\n",
      "done training\n",
      "msa train: 1.05 million $, ie 0.56 std\n",
      "msa test: 1.39 million $, ie 0.744 std\n"
     ]
    }
   ],
   "source": [
    "# Instantiate the model with parameter\n",
    "# TODO: tune the parameter\n",
    "params_neural_net = {\n",
    "    \"module__n_w_bits\": 6, # number of bits for weights\n",
    "    \"module__n_a_bits\": 6, # number of bits for activation and inputs\n",
    "    \"module__n_hidden_neurons_multiplier\": 5,\n",
    "    \"module__n_layers\": 2,  # number of layers in the FCNN\n",
    "    \"module__activation_function\": torch.nn.ReLU,\n",
    "    \"max_epochs\": 10,\n",
    "    \"verbose\": 1,\n",
    "    \"lr\": 0.01,\n",
    "    \"batch_size\": 32\n",
    "}\n",
    "\n",
    "\n",
    "#some sort of Feature preprocessing needed for quantization aware training\n",
    "# Linear models require polynomial features to be applied before training to fit a non-linear model and other models perform better with this transoformation\n",
    "pipe = Pipeline(\n",
    "    [\n",
    "        (\"poly\", PolynomialFeatures()),\n",
    "        (\"scaler\", StandardScaler()),\n",
    "    ]\n",
    ")\n",
    "\n",
    "X_poly_train = pipe.fit_transform(x_train)\n",
    "X_poly_test = pipe.transform(x_test)\n",
    "\n",
    "concrete_NN_regressor = ConcreteNNRegressor(**params_neural_net)\n",
    "\n",
    "# train the concrete linear regression model on clear data\n",
    "# The built-in NN regressor models will automatically quantize weights and activations with .fit() call. (Quantization Aware Training) These models use several layers for Quantization Aware Training, allowing good performance for low precision (down to 2-3 bits) weights and activations.\n",
    "# The maximum accumulator bit-width is controlled by the number of weights and activation bits, as well as a pruning factor. This factor is automatically determined based on the desired accumulator bit-width and a multiplier factor can be optionally specified.\n",
    "\n",
    "\n",
    "concrete_NN_regressor.fit(X_poly_train, y_train)\n",
    "print(\"done training\")\n",
    "\n",
    "y_pred_q = concrete_NN_regressor.predict(X_poly_train)\n",
    "y_pred_q = scaler_y.inverse_transform(y_pred_q)\n",
    "y_true = scaler_y.inverse_transform(y_train)\n",
    "msa = mean_absolute_error(y_true, y_pred_q)\n",
    "print(f'msa train: {round(msa/1000000, 2)} million $, ie {round(msa/std, 3)} std')\n",
    "\n",
    "\n",
    "y_pred_q = concrete_NN_regressor.predict(X_poly_test)\n",
    "y_pred_q = scaler_y.inverse_transform(y_pred_q)\n",
    "y_true = scaler_y.inverse_transform(y_test)\n",
    "msa = mean_absolute_error(y_true, y_pred_q)\n",
    "print(f'msa test: {round(msa/1000000, 2)} million $, ie {round(msa/std, 3)} std')\n"
   ]
  },
  {
   "cell_type": "code",
   "execution_count": 17,
   "metadata": {
    "colab": {
     "base_uri": "https://localhost:8080/"
    },
    "id": "R_fexlh0VXGr",
    "outputId": "42e0d302-8a6a-4fbd-d270-11e0a91b17c5"
   },
   "outputs": [
    {
     "name": "stdout",
     "output_type": "stream",
     "text": [
      "Generating a key for a 13-bit circuit\n",
      "Compilation time: 1.5798 seconds\n",
      "Generating a key for a 13-bit circuit\n",
      "Key generation time: 4.7234 seconds\n"
     ]
    }
   ],
   "source": [
    "# Compile the quantized model in to FHE circuit and run inference on it\n",
    "# You have to provide the training dataset in order to compile the quantized model to equivalent FHE circuit\n",
    "time_begin = time.time()\n",
    "fhe_circuit = concrete_NN_regressor.compile(X_poly_train)\n",
    "print(f\"Generating a key for a {fhe_circuit.graph.maximum_integer_bit_width()}-bit circuit\")\n",
    "print(f\"Compilation time: {time.time() - time_begin:.4f} seconds\")\n",
    "\n",
    "# Compiler returns the circuit, which can be used to generated a secrete key and evaluation key\n",
    "# secrete key: used for encryption and decryption. only accesible to the client\n",
    "# evaluation key: used to evaluate the cirucit on encypted data. anyone can access it\n",
    "print(f\"Generating a key for a {fhe_circuit.graph.maximum_integer_bit_width()}-bit circuit\")\n",
    "\n",
    "time_begin = time.time()\n",
    "fhe_circuit.client.keygen(force=False)\n",
    "print(f\"Key generation time: {time.time() - time_begin:.4f} seconds\")"
   ]
  },
  {
   "cell_type": "code",
   "execution_count": 18,
   "metadata": {
    "colab": {
     "base_uri": "https://localhost:8080/"
    },
    "id": "BxOnkLLtVcLq",
    "outputId": "a38c1c73-c64b-46c8-9dbe-3728c3ea9450"
   },
   "outputs": [
    {
     "name": "stdout",
     "output_type": "stream",
     "text": [
      "Execution time: 55089.84 milliseconds per sample\n",
      "which is 126565550 times slower than prediction on the plaintext data\n"
     ]
    }
   ],
   "source": [
    "# Evaluate the FHE-version of the model\n",
    "time_begin = time.time()\n",
    "y_pred_fhe = concrete_NN_regressor.predict(X_poly_test, fhe=\"execute\")\n",
    "\n",
    "execution_time_on_ciphertext = (time.time() - time_begin) / len(x_test)\n",
    "print(f\"Execution time: {execution_time_on_ciphertext*1000:.2f} milliseconds per sample\")\n",
    "print(f\"which is {(execution_time_on_ciphertext / execution_time_on_plaintext):.0f} times slower than prediction on the plaintext data\")"
   ]
  },
  {
   "cell_type": "code",
   "execution_count": 19,
   "metadata": {
    "colab": {
     "base_uri": "https://localhost:8080/"
    },
    "id": "TKWG315jV7Iq",
    "outputId": "ba326d5d-11b2-4932-aa2e-51c2bee45f53"
   },
   "outputs": [
    {
     "name": "stdout",
     "output_type": "stream",
     "text": [
      "msa test: 1.39 million $, ie 0.744 std\n"
     ]
    }
   ],
   "source": [
    "y_pred_fhe = scaler_y.inverse_transform(y_pred_fhe)\n",
    "y_true = scaler_y.inverse_transform(y_test)\n",
    "msa = mean_absolute_error(y_true, y_pred_fhe)\n",
    "print(f'msa test: {round(msa/1000000, 2)} million $, ie {round(msa/std, 3)} std')"
   ]
  },
  {
   "cell_type": "code",
   "execution_count": null,
   "metadata": {},
   "outputs": [],
   "source": []
  }
 ],
 "metadata": {
  "colab": {
   "provenance": []
  },
  "kernelspec": {
   "display_name": "Python 3 (ipykernel)",
   "language": "python",
   "name": "python3"
  },
  "language_info": {
   "codemirror_mode": {
    "name": "ipython",
    "version": 3
   },
   "file_extension": ".py",
   "mimetype": "text/x-python",
   "name": "python",
   "nbconvert_exporter": "python",
   "pygments_lexer": "ipython3",
   "version": "3.10.14"
  }
 },
 "nbformat": 4,
 "nbformat_minor": 4
}
