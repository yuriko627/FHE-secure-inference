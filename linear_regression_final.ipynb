{
 "cells": [
  {
   "cell_type": "markdown",
   "metadata": {},
   "source": [
    "# Predicting Ride Price using Linear Regression\n",
    "There are 7 parts in this notebook.\n",
    "\n",
    "0. Preprocess the dataframe\n",
    "1. Training on plaintext data\n",
    "2. Evaluate model on plaintext data\n",
    "3. Quantize the model\n",
    "4. Compile the model to the equivalent FHE circuit\n",
    "5. Evaluate the FHE model on encrypted data\n",
    "6. MAE and R^2 measurement"
   ]
  },
  {
   "cell_type": "code",
   "execution_count": 5,
   "metadata": {},
   "outputs": [],
   "source": [
    "# import required packages\n",
    "import time\n",
    "import numpy as np\n",
    "from sklearn.preprocessing import MinMaxScaler\n",
    "from sklearn.neural_network import MLPRegressor as SklearnMLPRegressor\n",
    "from sklearn.metrics import r2_score, mean_absolute_error\n",
    "from sklearn.model_selection import train_test_split\n",
    "from concrete.ml.sklearn import NeuralNetRegressor as ConcreteNNRegressor\n",
    "import torch\n",
    "from sklearn.pipeline import Pipeline\n",
    "from sklearn.preprocessing import PolynomialFeatures, StandardScaler\n",
    "import matplotlib.pyplot as plt\n",
    "from sklearn.preprocessing import OneHotEncoder\n",
    "from sklearn.compose import ColumnTransformer\n",
    "import pandas as pd"
   ]
  },
  {
   "cell_type": "code",
   "execution_count": 38,
   "metadata": {},
   "outputs": [
    {
     "data": {
      "text/html": [
       "<div>\n",
       "<style scoped>\n",
       "    .dataframe tbody tr th:only-of-type {\n",
       "        vertical-align: middle;\n",
       "    }\n",
       "\n",
       "    .dataframe tbody tr th {\n",
       "        vertical-align: top;\n",
       "    }\n",
       "\n",
       "    .dataframe thead th {\n",
       "        text-align: right;\n",
       "    }\n",
       "</style>\n",
       "<table border=\"1\" class=\"dataframe\">\n",
       "  <thead>\n",
       "    <tr style=\"text-align: right;\">\n",
       "      <th></th>\n",
       "      <th>price</th>\n",
       "      <th>area</th>\n",
       "      <th>bedrooms</th>\n",
       "      <th>bathrooms</th>\n",
       "      <th>stories</th>\n",
       "      <th>mainroad</th>\n",
       "      <th>guestroom</th>\n",
       "      <th>basement</th>\n",
       "      <th>hotwaterheating</th>\n",
       "      <th>airconditioning</th>\n",
       "      <th>parking</th>\n",
       "      <th>prefarea</th>\n",
       "      <th>furnishingstatus</th>\n",
       "    </tr>\n",
       "  </thead>\n",
       "  <tbody>\n",
       "    <tr>\n",
       "      <th>0</th>\n",
       "      <td>13300000</td>\n",
       "      <td>7420</td>\n",
       "      <td>4</td>\n",
       "      <td>2</td>\n",
       "      <td>3</td>\n",
       "      <td>yes</td>\n",
       "      <td>no</td>\n",
       "      <td>no</td>\n",
       "      <td>no</td>\n",
       "      <td>yes</td>\n",
       "      <td>2</td>\n",
       "      <td>yes</td>\n",
       "      <td>furnished</td>\n",
       "    </tr>\n",
       "    <tr>\n",
       "      <th>1</th>\n",
       "      <td>12250000</td>\n",
       "      <td>8960</td>\n",
       "      <td>4</td>\n",
       "      <td>4</td>\n",
       "      <td>4</td>\n",
       "      <td>yes</td>\n",
       "      <td>no</td>\n",
       "      <td>no</td>\n",
       "      <td>no</td>\n",
       "      <td>yes</td>\n",
       "      <td>3</td>\n",
       "      <td>no</td>\n",
       "      <td>furnished</td>\n",
       "    </tr>\n",
       "    <tr>\n",
       "      <th>2</th>\n",
       "      <td>12250000</td>\n",
       "      <td>9960</td>\n",
       "      <td>3</td>\n",
       "      <td>2</td>\n",
       "      <td>2</td>\n",
       "      <td>yes</td>\n",
       "      <td>no</td>\n",
       "      <td>yes</td>\n",
       "      <td>no</td>\n",
       "      <td>no</td>\n",
       "      <td>2</td>\n",
       "      <td>yes</td>\n",
       "      <td>semi-furnished</td>\n",
       "    </tr>\n",
       "    <tr>\n",
       "      <th>3</th>\n",
       "      <td>12215000</td>\n",
       "      <td>7500</td>\n",
       "      <td>4</td>\n",
       "      <td>2</td>\n",
       "      <td>2</td>\n",
       "      <td>yes</td>\n",
       "      <td>no</td>\n",
       "      <td>yes</td>\n",
       "      <td>no</td>\n",
       "      <td>yes</td>\n",
       "      <td>3</td>\n",
       "      <td>yes</td>\n",
       "      <td>furnished</td>\n",
       "    </tr>\n",
       "    <tr>\n",
       "      <th>4</th>\n",
       "      <td>11410000</td>\n",
       "      <td>7420</td>\n",
       "      <td>4</td>\n",
       "      <td>1</td>\n",
       "      <td>2</td>\n",
       "      <td>yes</td>\n",
       "      <td>yes</td>\n",
       "      <td>yes</td>\n",
       "      <td>no</td>\n",
       "      <td>yes</td>\n",
       "      <td>2</td>\n",
       "      <td>no</td>\n",
       "      <td>furnished</td>\n",
       "    </tr>\n",
       "    <tr>\n",
       "      <th>...</th>\n",
       "      <td>...</td>\n",
       "      <td>...</td>\n",
       "      <td>...</td>\n",
       "      <td>...</td>\n",
       "      <td>...</td>\n",
       "      <td>...</td>\n",
       "      <td>...</td>\n",
       "      <td>...</td>\n",
       "      <td>...</td>\n",
       "      <td>...</td>\n",
       "      <td>...</td>\n",
       "      <td>...</td>\n",
       "      <td>...</td>\n",
       "    </tr>\n",
       "    <tr>\n",
       "      <th>540</th>\n",
       "      <td>1820000</td>\n",
       "      <td>3000</td>\n",
       "      <td>2</td>\n",
       "      <td>1</td>\n",
       "      <td>1</td>\n",
       "      <td>yes</td>\n",
       "      <td>no</td>\n",
       "      <td>yes</td>\n",
       "      <td>no</td>\n",
       "      <td>no</td>\n",
       "      <td>2</td>\n",
       "      <td>no</td>\n",
       "      <td>unfurnished</td>\n",
       "    </tr>\n",
       "    <tr>\n",
       "      <th>541</th>\n",
       "      <td>1767150</td>\n",
       "      <td>2400</td>\n",
       "      <td>3</td>\n",
       "      <td>1</td>\n",
       "      <td>1</td>\n",
       "      <td>no</td>\n",
       "      <td>no</td>\n",
       "      <td>no</td>\n",
       "      <td>no</td>\n",
       "      <td>no</td>\n",
       "      <td>0</td>\n",
       "      <td>no</td>\n",
       "      <td>semi-furnished</td>\n",
       "    </tr>\n",
       "    <tr>\n",
       "      <th>542</th>\n",
       "      <td>1750000</td>\n",
       "      <td>3620</td>\n",
       "      <td>2</td>\n",
       "      <td>1</td>\n",
       "      <td>1</td>\n",
       "      <td>yes</td>\n",
       "      <td>no</td>\n",
       "      <td>no</td>\n",
       "      <td>no</td>\n",
       "      <td>no</td>\n",
       "      <td>0</td>\n",
       "      <td>no</td>\n",
       "      <td>unfurnished</td>\n",
       "    </tr>\n",
       "    <tr>\n",
       "      <th>543</th>\n",
       "      <td>1750000</td>\n",
       "      <td>2910</td>\n",
       "      <td>3</td>\n",
       "      <td>1</td>\n",
       "      <td>1</td>\n",
       "      <td>no</td>\n",
       "      <td>no</td>\n",
       "      <td>no</td>\n",
       "      <td>no</td>\n",
       "      <td>no</td>\n",
       "      <td>0</td>\n",
       "      <td>no</td>\n",
       "      <td>furnished</td>\n",
       "    </tr>\n",
       "    <tr>\n",
       "      <th>544</th>\n",
       "      <td>1750000</td>\n",
       "      <td>3850</td>\n",
       "      <td>3</td>\n",
       "      <td>1</td>\n",
       "      <td>2</td>\n",
       "      <td>yes</td>\n",
       "      <td>no</td>\n",
       "      <td>no</td>\n",
       "      <td>no</td>\n",
       "      <td>no</td>\n",
       "      <td>0</td>\n",
       "      <td>no</td>\n",
       "      <td>unfurnished</td>\n",
       "    </tr>\n",
       "  </tbody>\n",
       "</table>\n",
       "<p>545 rows × 13 columns</p>\n",
       "</div>"
      ],
      "text/plain": [
       "        price  area  bedrooms  bathrooms  stories mainroad guestroom basement  \\\n",
       "0    13300000  7420         4          2        3      yes        no       no   \n",
       "1    12250000  8960         4          4        4      yes        no       no   \n",
       "2    12250000  9960         3          2        2      yes        no      yes   \n",
       "3    12215000  7500         4          2        2      yes        no      yes   \n",
       "4    11410000  7420         4          1        2      yes       yes      yes   \n",
       "..        ...   ...       ...        ...      ...      ...       ...      ...   \n",
       "540   1820000  3000         2          1        1      yes        no      yes   \n",
       "541   1767150  2400         3          1        1       no        no       no   \n",
       "542   1750000  3620         2          1        1      yes        no       no   \n",
       "543   1750000  2910         3          1        1       no        no       no   \n",
       "544   1750000  3850         3          1        2      yes        no       no   \n",
       "\n",
       "    hotwaterheating airconditioning  parking prefarea furnishingstatus  \n",
       "0                no             yes        2      yes        furnished  \n",
       "1                no             yes        3       no        furnished  \n",
       "2                no              no        2      yes   semi-furnished  \n",
       "3                no             yes        3      yes        furnished  \n",
       "4                no             yes        2       no        furnished  \n",
       "..              ...             ...      ...      ...              ...  \n",
       "540              no              no        2       no      unfurnished  \n",
       "541              no              no        0       no   semi-furnished  \n",
       "542              no              no        0       no      unfurnished  \n",
       "543              no              no        0       no        furnished  \n",
       "544              no              no        0       no      unfurnished  \n",
       "\n",
       "[545 rows x 13 columns]"
      ]
     },
     "execution_count": 38,
     "metadata": {},
     "output_type": "execute_result"
    }
   ],
   "source": [
    "house_dataset = pd.read_csv(\"./data/Housing.csv\")\n",
    "df = pd.DataFrame(house_dataset)\n",
    "df"
   ]
  },
  {
   "cell_type": "code",
   "execution_count": 39,
   "metadata": {},
   "outputs": [],
   "source": [
    "#preprocessing\n",
    "\n",
    "scaler_cat = OneHotEncoder()\n",
    "scaler_y = MinMaxScaler()\n",
    "std = np.std(df['price'])\n",
    "y = np.array(df.pop('price'), dtype=np.float32)\n",
    "y = np.expand_dims(y, axis=-1)\n",
    "y = scaler_y.fit_transform(y)\n",
    "x = np.empty((len(df), 0))\n",
    "\n",
    "categorical_features = df.select_dtypes(include=['object']).columns.tolist()\n",
    "\n",
    "for key, values in df.items():\n",
    "  el = np.expand_dims(np.array(df[key]), axis=-1)\n",
    "  if key in categorical_features:\n",
    "    el = scaler_cat.fit_transform(el).toarray()\n",
    "  x = np.concatenate((x, el), axis=1)\n",
    "\n",
    "X_train, X_test, y_train, y_test = train_test_split(x, y, test_size=0.2, random_state=42)"
   ]
  },
  {
   "cell_type": "markdown",
   "metadata": {},
   "source": [
    "## 0. Preprocess the dataframe"
   ]
  },
  {
   "cell_type": "markdown",
   "metadata": {},
   "source": [
    "## 1. Training on plaintext data"
   ]
  },
  {
   "cell_type": "code",
   "execution_count": 40,
   "metadata": {},
   "outputs": [
    {
     "data": {
      "text/html": [
       "<style>#sk-container-id-3 {color: black;background-color: white;}#sk-container-id-3 pre{padding: 0;}#sk-container-id-3 div.sk-toggleable {background-color: white;}#sk-container-id-3 label.sk-toggleable__label {cursor: pointer;display: block;width: 100%;margin-bottom: 0;padding: 0.3em;box-sizing: border-box;text-align: center;}#sk-container-id-3 label.sk-toggleable__label-arrow:before {content: \"▸\";float: left;margin-right: 0.25em;color: #696969;}#sk-container-id-3 label.sk-toggleable__label-arrow:hover:before {color: black;}#sk-container-id-3 div.sk-estimator:hover label.sk-toggleable__label-arrow:before {color: black;}#sk-container-id-3 div.sk-toggleable__content {max-height: 0;max-width: 0;overflow: hidden;text-align: left;background-color: #f0f8ff;}#sk-container-id-3 div.sk-toggleable__content pre {margin: 0.2em;color: black;border-radius: 0.25em;background-color: #f0f8ff;}#sk-container-id-3 input.sk-toggleable__control:checked~div.sk-toggleable__content {max-height: 200px;max-width: 100%;overflow: auto;}#sk-container-id-3 input.sk-toggleable__control:checked~label.sk-toggleable__label-arrow:before {content: \"▾\";}#sk-container-id-3 div.sk-estimator input.sk-toggleable__control:checked~label.sk-toggleable__label {background-color: #d4ebff;}#sk-container-id-3 div.sk-label input.sk-toggleable__control:checked~label.sk-toggleable__label {background-color: #d4ebff;}#sk-container-id-3 input.sk-hidden--visually {border: 0;clip: rect(1px 1px 1px 1px);clip: rect(1px, 1px, 1px, 1px);height: 1px;margin: -1px;overflow: hidden;padding: 0;position: absolute;width: 1px;}#sk-container-id-3 div.sk-estimator {font-family: monospace;background-color: #f0f8ff;border: 1px dotted black;border-radius: 0.25em;box-sizing: border-box;margin-bottom: 0.5em;}#sk-container-id-3 div.sk-estimator:hover {background-color: #d4ebff;}#sk-container-id-3 div.sk-parallel-item::after {content: \"\";width: 100%;border-bottom: 1px solid gray;flex-grow: 1;}#sk-container-id-3 div.sk-label:hover label.sk-toggleable__label {background-color: #d4ebff;}#sk-container-id-3 div.sk-serial::before {content: \"\";position: absolute;border-left: 1px solid gray;box-sizing: border-box;top: 0;bottom: 0;left: 50%;z-index: 0;}#sk-container-id-3 div.sk-serial {display: flex;flex-direction: column;align-items: center;background-color: white;padding-right: 0.2em;padding-left: 0.2em;position: relative;}#sk-container-id-3 div.sk-item {position: relative;z-index: 1;}#sk-container-id-3 div.sk-parallel {display: flex;align-items: stretch;justify-content: center;background-color: white;position: relative;}#sk-container-id-3 div.sk-item::before, #sk-container-id-3 div.sk-parallel-item::before {content: \"\";position: absolute;border-left: 1px solid gray;box-sizing: border-box;top: 0;bottom: 0;left: 50%;z-index: -1;}#sk-container-id-3 div.sk-parallel-item {display: flex;flex-direction: column;z-index: 1;position: relative;background-color: white;}#sk-container-id-3 div.sk-parallel-item:first-child::after {align-self: flex-end;width: 50%;}#sk-container-id-3 div.sk-parallel-item:last-child::after {align-self: flex-start;width: 50%;}#sk-container-id-3 div.sk-parallel-item:only-child::after {width: 0;}#sk-container-id-3 div.sk-dashed-wrapped {border: 1px dashed gray;margin: 0 0.4em 0.5em 0.4em;box-sizing: border-box;padding-bottom: 0.4em;background-color: white;}#sk-container-id-3 div.sk-label label {font-family: monospace;font-weight: bold;display: inline-block;line-height: 1.2em;}#sk-container-id-3 div.sk-label-container {text-align: center;}#sk-container-id-3 div.sk-container {/* jupyter's `normalize.less` sets `[hidden] { display: none; }` but bootstrap.min.css set `[hidden] { display: none !important; }` so we also need the `!important` here to be able to override the default hidden behavior on the sphinx rendered scikit-learn.org. See: https://github.com/scikit-learn/scikit-learn/issues/21755 */display: inline-block !important;position: relative;}#sk-container-id-3 div.sk-text-repr-fallback {display: none;}</style><div id=\"sk-container-id-3\" class=\"sk-top-container\"><div class=\"sk-text-repr-fallback\"><pre>LinearRegression()</pre><b>In a Jupyter environment, please rerun this cell to show the HTML representation or trust the notebook. <br />On GitHub, the HTML representation is unable to render, please try loading this page with nbviewer.org.</b></div><div class=\"sk-container\" hidden><div class=\"sk-item\"><div class=\"sk-estimator sk-toggleable\"><input class=\"sk-toggleable__control sk-hidden--visually\" id=\"sk-estimator-id-3\" type=\"checkbox\" checked><label for=\"sk-estimator-id-3\" class=\"sk-toggleable__label sk-toggleable__label-arrow\">LinearRegression</label><div class=\"sk-toggleable__content\"><pre>LinearRegression()</pre></div></div></div></div></div>"
      ],
      "text/plain": [
       "LinearRegression()"
      ]
     },
     "execution_count": 40,
     "metadata": {},
     "output_type": "execute_result"
    }
   ],
   "source": [
    "# train LinearRegression model on the clear\n",
    "sklearn_lr = SklearnLinearRegression()\n",
    "sklearn_lr.fit(X_train, y_train)"
   ]
  },
  {
   "cell_type": "markdown",
   "metadata": {},
   "source": [
    "## 2. Evaluate model on plaintext data"
   ]
  },
  {
   "cell_type": "code",
   "execution_count": 60,
   "metadata": {},
   "outputs": [
    {
     "name": "stdout",
     "output_type": "stream",
     "text": [
      "Model evaluation time in the clear: 0.00000055 seconds per sample\n",
      "sklearn model MAE in the clear : 4.86 millions, ie 2.601 std\n"
     ]
    }
   ],
   "source": [
    "time_begin = time.time()\n",
    "# y_pred = sklearn_lr.predict(X_test)\n",
    "execution_time_on_plaintext = (time.time() - time_begin) / len(X_test)\n",
    "print(f\"Model evaluation time in the clear: {execution_time_on_plaintext:.8f} seconds per sample\")\n",
    "\n",
    "# Compute MAE\n",
    "# mae_clear = mean_absolute_error(y_test, y_pred)\n",
    "\n",
    "y_pred = sklearn_lr.predict(X_test)\n",
    "y_pred = scaler_y.inverse_transform(y_pred.reshape(-1, 1))\n",
    "y_true = scaler_y.inverse_transform(y_test.reshape(-1, 1))\n",
    "mae = mean_absolute_error(y_test, y_pred)\n",
    "print(f'sklearn model MAE in the clear : {round(mae/1000000, 2)} millions, ie {round(mae/std, 3)} std')\n",
    "\n",
    "# print('sklearn model MAE in the clear : ', mae_clear)\n",
    "\n",
    "# Compute the R2 scores\n",
    "# sklearn_r2_score = r2_score(y_test, y_pred)\n",
    "# print(\"sklearn model r2 score in the clear: \", sklearn_r2_score)\n"
   ]
  },
  {
   "cell_type": "code",
   "execution_count": 45,
   "metadata": {},
   "outputs": [
    {
     "name": "stdout",
     "output_type": "stream",
     "text": [
      "few sample test\n",
      "pred: [[0.00295641]] true: [[0.002]]\n",
      "pred: [[0.00474002]] true: [[0.00424242]]\n",
      "pred: [[0.00117737]] true: [[0.00169697]]\n",
      "pred: [[0.00247799]] true: [[0.00406061]]\n",
      "pred: [[0.00133736]] true: [[0.00090909]]\n",
      "pred: [[0.0015431]] true: [[0.00272727]]\n",
      "pred: [[0.00334353]] true: [[0.0030303]]\n",
      "pred: [[0.00399839]] true: [[0.00241818]]\n",
      "pred: [[0.0008423]] true: [[0.00060606]]\n",
      "pred: [[0.00076139]] true: [[0.00138788]]\n",
      "pred: [[0.00681129]] true: [[0.00727273]]\n",
      "pred: [[0.00090743]] true: [[0.00078788]]\n",
      "pred: [[0.00123039]] true: [[0.00139394]]\n",
      "pred: [[0.00142393]] true: [[0.00139394]]\n",
      "pred: [[0.00167194]] true: [[0.00045455]]\n",
      "pred: [[0.00304172]] true: [[0.00078788]]\n",
      "pred: [[0.00111339]] true: [[0.00078788]]\n",
      "pred: [[0.00262868]] true: [[0.00484848]]\n",
      "pred: [[0.00225069]] true: [[0.0010303]]\n",
      "pred: [[0.0015778]] true: [[0.0009697]]\n"
     ]
    }
   ],
   "source": [
    "print('few sample test')\n",
    "for i in range(20):\n",
    "  print('pred:', sklearn_lr.predict(X_test[i:i+1])/100, 'true:', y_test[i:i+1]/100)"
   ]
  },
  {
   "cell_type": "markdown",
   "metadata": {},
   "source": [
    "## 3. Quantize the model"
   ]
  },
  {
   "cell_type": "code",
   "execution_count": 62,
   "metadata": {},
   "outputs": [
    {
     "name": "stdout",
     "output_type": "stream",
     "text": [
      "quantized model MAE:  3.26 millions, ie 1.743 std\n"
     ]
    }
   ],
   "source": [
    "# Quantize the model (convert all the floating point numbers of weights and biases (32 bits) to integers (8 bits))\n",
    "# set the quantization parameter on input as 8 bits\n",
    "concrete_lr = ConcreteLinearRegression(n_bits=8)\n",
    "\n",
    "# train the concrete linear regression model on clear data\n",
    "concrete_lr.fit(X_train, y_train)\n",
    "\n",
    "# Now, we can test our Concrete ML model on the clear test data\n",
    "y_pred_q = concrete_lr.predict(X_test)\n",
    "y_pred_q = scaler_y.inverse_transform(y_pred_q.reshape(-1, 1))\n",
    "mae_q = mean_absolute_error(y_true, y_pred_q)\n",
    "print(f'quantized model MAE:  {round(mae_q/1000000, 2)} millions, ie {round(mae_q/std, 3)} std')\n",
    "\n",
    "\n",
    "# # Compute the R2 scores\n",
    "# quantized_r2_score = r2_score(y_test, y_pred_q)\n",
    "# print('quantized model R^2 score: ', quantized_r2_score)"
   ]
  },
  {
   "cell_type": "markdown",
   "metadata": {},
   "source": [
    "## 4. Compile the model to the equivalent FHE circuit"
   ]
  },
  {
   "cell_type": "code",
   "execution_count": 50,
   "metadata": {},
   "outputs": [
    {
     "name": "stdout",
     "output_type": "stream",
     "text": [
      "Generating a key for a 18-bit circuit\n",
      "Compilation time: 8.4107 seconds\n",
      "Generating a key for a 18-bit circuit\n",
      "Key generation time: 0.0008 seconds\n"
     ]
    }
   ],
   "source": [
    "# Compile the quantized model in to FHE circuit and run inference on it\n",
    "# You have to provide the training dataset in order to compile the quantized model to equivalent FHE circuit\n",
    "time_begin = time.time()\n",
    "fhe_circuit = concrete_lr.compile(X_train)\n",
    "print(f\"Generating a key for a {fhe_circuit.graph.maximum_integer_bit_width()}-bit circuit\")\n",
    "print(f\"Compilation time: {time.time() - time_begin:.4f} seconds\")\n",
    "\n",
    "# Compiler returns the circuit, which can be used to generated a secrete key and evaluation key\n",
    "# secrete key: used for encryption and decryption. only accesible to the client\n",
    "# evaluation key: used to evaluate the cirucit on encypted data. anyone can access it\n",
    "print(f\"Generating a key for a {fhe_circuit.graph.maximum_integer_bit_width()}-bit circuit\")\n",
    "\n",
    "time_begin = time.time()\n",
    "fhe_circuit.client.keygen(force=False)\n",
    "print(f\"Key generation time: {time.time() - time_begin:.4f} seconds\")"
   ]
  },
  {
   "cell_type": "code",
   "execution_count": 51,
   "metadata": {},
   "outputs": [
    {
     "name": "stdout",
     "output_type": "stream",
     "text": [
      "{'size_of_inputs': 208000, 'size_of_outputs': 10400, 'programmable_bootstrap_count': 0, 'programmable_bootstrap_count_per_parameter': {}, 'programmable_bootstrap_count_per_tag': {}, 'programmable_bootstrap_count_per_tag_per_parameter': {}, 'key_switch_count': 0, 'key_switch_count_per_parameter': {}, 'key_switch_count_per_tag': {}, 'key_switch_count_per_tag_per_parameter': {}, 'packing_key_switch_count': 0, 'packing_key_switch_count_per_parameter': {}, 'packing_key_switch_count_per_tag': {}, 'packing_key_switch_count_per_tag_per_parameter': {}, 'clear_addition_count': 1, 'clear_addition_count_per_parameter': {LweSecretKeyParam(dimension=1299): 1}, 'clear_addition_count_per_tag': {}, 'clear_addition_count_per_tag_per_parameter': {}, 'encrypted_addition_count': 41, 'encrypted_addition_count_per_parameter': {LweSecretKeyParam(dimension=1299): 41}, 'encrypted_addition_count_per_tag': {}, 'encrypted_addition_count_per_tag_per_parameter': {}, 'clear_multiplication_count': 21, 'clear_multiplication_count_per_parameter': {LweSecretKeyParam(dimension=1299): 21}, 'clear_multiplication_count_per_tag': {}, 'clear_multiplication_count_per_tag_per_parameter': {}, 'encrypted_negation_count': 1, 'encrypted_negation_count_per_parameter': {LweSecretKeyParam(dimension=1299): 1}, 'encrypted_negation_count_per_tag': {}, 'encrypted_negation_count_per_tag_per_parameter': {}, 'size_of_secret_keys': 10392, 'size_of_bootstrap_keys': 0, 'size_of_keyswitch_keys': 0, 'p_error': 5.60117807869527e-13, 'global_p_error': 5.60117807869527e-13, 'complexity': 1299.0}\n"
     ]
    }
   ],
   "source": [
    "print(fhe_circuit.statistics)"
   ]
  },
  {
   "cell_type": "markdown",
   "metadata": {},
   "source": [
    "## 5. Evaluate the FHE model on encrypted data"
   ]
  },
  {
   "cell_type": "code",
   "execution_count": 56,
   "metadata": {},
   "outputs": [
    {
     "name": "stdout",
     "output_type": "stream",
     "text": [
      "Execution time: 0.00350443 seconds per sample\n",
      "which is 5601.93 times slower than prediction on the plaintext data\n"
     ]
    }
   ],
   "source": [
    "# Evaluate the FHE-version of the model on encrypted data\n",
    "time_begin = time.time()\n",
    "\n",
    "decrypted_prediction_list = []\n",
    "\n",
    "for i, input in enumerate(X_test):\n",
    "\tquantized_input = concrete_lr.quantize_input([np.array(input)])\n",
    "\n",
    "\tencrypted_input = fhe_circuit.encrypt(quantized_input)\n",
    "\n",
    "\tencrypted_prediction = fhe_circuit.run(encrypted_input)\n",
    "\n",
    "\tdecrypted_prediction = concrete_lr.dequantize_output(fhe_circuit.decrypt(encrypted_prediction))\n",
    "\n",
    "\tdecrypted_prediction_list.append(decrypted_prediction[0][0])\n",
    "\n",
    "\n",
    "\n",
    "execution_time_on_ciphertext = (time.time() - time_begin)/len(X_test)\n",
    "\n",
    "y_pred_fhe = scaler_y.inverse_transform(np.array(decrypted_prediction_list).reshape(-1, 1))\n",
    "\n",
    "# Measure MSE of FHE version of the model\n",
    "mae_fhe = mean_absolute_error(y_true, y_pred_fhe)\n",
    "\n",
    "# Measure R2 score of FHE version of the model\n",
    "# fhe_r2_score = r2_score(y_test, decrypted_prediction_list)\n",
    "\n",
    "print(f\"Execution time: {execution_time_on_ciphertext:.8f} seconds per sample\")\n",
    "print(f\"which is {(execution_time_on_ciphertext / execution_time_on_plaintext):.2f} times slower than prediction on the plaintext data\")"
   ]
  },
  {
   "cell_type": "markdown",
   "metadata": {},
   "source": [
    "## 6. MAE and R^2 Score Measurement"
   ]
  },
  {
   "cell_type": "code",
   "execution_count": 59,
   "metadata": {},
   "outputs": [
    {
     "name": "stdout",
     "output_type": "stream",
     "text": [
      "MAE:\n",
      "- scikit-learn (clear): 4.86 millions\n",
      "- Concrete ML (quantized model on plaintext): 3.26 millions\n",
      "- Concrete ML (FHE model on ciphertext): 3.26 millions\n",
      "\n",
      "Relative MAE score difference between scikit-learn (clear) and quntized model (clear): 32.99%\n",
      "Relative MAE score difference between quantized model (clear) vs. Concrete ML (FHE): 0.00%\n"
     ]
    }
   ],
   "source": [
    "print(\"MAE:\")\n",
    "print(f\"- scikit-learn (clear): {round(mae/1000000, 2)} millions\")\n",
    "print(f\"- Concrete ML (quantized model on plaintext): {round(mae_q/1000000, 2)} millions\")\n",
    "print(f\"- Concrete ML (FHE model on ciphertext): {round(mae_fhe/1000000, 2)} millions\\n\")\n",
    "\n",
    "# print(\"R^2 scores:\")\n",
    "# print(f\"- scikit-learn (clear): {sklearn_r2_score:.4f}\")\n",
    "# print(f\"- Concrete ML (quantized model on plaintext): {quantized_r2_score:.4f}\")\n",
    "# print(f\"- Concrete ML (FHE model on ciphertext): {fhe_r2_score:.4f} \\n\")\n",
    "\n",
    "#Measure the error of the FHE quantized model with respect to the clear float model\n",
    "score_difference = abs(mae_q - mae) * 100 / mae\n",
    "print(\n",
    "    \"Relative MAE score difference between scikit-learn (clear) and quntized model (clear):\",\n",
    "    f\"{score_difference:.2f}%\",\n",
    ")\n",
    "\n",
    "#Measure the error of the FHE quantized model with respect to the clear scikit-learn float model\n",
    "concrete_score_difference = abs(mae_fhe - mae_q) * 100 / mae_q\n",
    "print(\n",
    "    \"Relative MAE score difference between quantized model (clear) vs. Concrete ML (FHE):\",\n",
    "    f\"{concrete_score_difference:.2f}%\",\n",
    ")\n",
    "\n"
   ]
  },
  {
   "cell_type": "code",
   "execution_count": null,
   "metadata": {},
   "outputs": [],
   "source": []
  }
 ],
 "metadata": {
  "kernelspec": {
   "display_name": "Python 3 (ipykernel)",
   "language": "python",
   "name": "python3"
  },
  "language_info": {
   "codemirror_mode": {
    "name": "ipython",
    "version": 3
   },
   "file_extension": ".py",
   "mimetype": "text/x-python",
   "name": "python",
   "nbconvert_exporter": "python",
   "pygments_lexer": "ipython3",
   "version": "3.10.14"
  }
 },
 "nbformat": 4,
 "nbformat_minor": 4
}
